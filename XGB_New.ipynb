{
 "cells": [
  {
   "cell_type": "markdown",
   "metadata": {},
   "source": [
    "Tutorial to forecast uni-variate time-series With XGBoost\n",
    "\n",
    "In this article, I shall be providing a tutorial on how to build an XGBoost model to handle a uni-variate time-series electricity dataset. The goal is to create a model that will allow us to confidently predict future electricity consumption in China. By the end of this article, you will be able to understand why we should use XGBoost, and how to write code to implement the model in Jupyter Notebook. \n",
    "\n",
    "Download Data\n",
    "This data has been downloaded originally from the online database created and maintained by the Research Department at the Federal Reserve Bank of St. Louis (FRED). If you wish to follow along, you can download the dataset hosted on my Github.\n",
    "\n",
    "XGBoost \n",
    "https://xgboost.readthedocs.io/en/latest/\n",
    "XGBoost is an optimized distributed gradient boosting library designed to have high computation speed & performance. In Python, the XGBoost library gives you a supervised machine learning model that follows the Gradient Boosting framework. It uses a parallel tree boosting algorithm to create forecasts. The XGBoost package in Python can handle LIBSVM text format files, CSV files, Numpy 2D arrays, SciPy 2D sparse arrays, cuDF DataFrames and Pandas DataFrames. In this example, we will be using a CSV file. You can install XGBoost by typing the following in your command prompt: \n",
    "\n",
    "pip install xgboost\n",
    "\n",
    "Importing Dependencies \n",
    "We begin by opening the Jupyter notebook and typing pip install module. This \"module\" is being invoked so that we can use it in our code. The modules that will be used in this tutorial are NumPy, Pandas, Plotly, SKlearn and XGBoost modules."
   ]
  },
  {
   "cell_type": "code",
   "execution_count": 21,
   "metadata": {},
   "outputs": [],
   "source": [
    "import pandas as pd\n",
    "import numpy as np\n",
    "import xgboost as xgb\n",
    "from sklearn.metrics import mean_squared_error\n",
    "from sklearn.metrics import mean_absolute_error\n",
    "from sklearn.metrics import r2_score\n",
    "from sklearn.model_selection import train_test_split\n",
    "from sklearn.model_selection import cross_val_score, KFold\n",
    "import plotly.express as px\n",
    "import plotly.figure_factory as ff\n",
    "import plotly.graph_objs as go\n",
    "import chart_studio\n",
    "import chart_studio.plotly as py \n",
    "import chart_studio.tools\n",
    "username = 'xyz' # Add your username\n",
    "api_key = 'OOs2fe0fSrV1goPhnT5p' # Add your api key\n",
    "chart_studio.tools.set_credentials_file(username = username, api_key = api_key)"
   ]
  },
  {
   "cell_type": "markdown",
   "metadata": {},
   "source": [
    "Loading Data\n",
    "\n",
    "We use Pandas to import the CSV file with headers. Let us print the first 10 elements of our dataset to see what's in it!"
   ]
  },
  {
   "cell_type": "code",
   "execution_count": 22,
   "metadata": {},
   "outputs": [
    {
     "data": {
      "text/html": [
       "<div>\n",
       "<style scoped>\n",
       "    .dataframe tbody tr th:only-of-type {\n",
       "        vertical-align: middle;\n",
       "    }\n",
       "\n",
       "    .dataframe tbody tr th {\n",
       "        vertical-align: top;\n",
       "    }\n",
       "\n",
       "    .dataframe thead th {\n",
       "        text-align: right;\n",
       "    }\n",
       "</style>\n",
       "<table border=\"1\" class=\"dataframe\">\n",
       "  <thead>\n",
       "    <tr style=\"text-align: right;\">\n",
       "      <th></th>\n",
       "      <th>DATE</th>\n",
       "      <th>Electricity</th>\n",
       "    </tr>\n",
       "  </thead>\n",
       "  <tbody>\n",
       "    <tr>\n",
       "      <th>0</th>\n",
       "      <td>2000-01-01</td>\n",
       "      <td>105230.0</td>\n",
       "    </tr>\n",
       "    <tr>\n",
       "      <th>1</th>\n",
       "      <td>2000-02-01</td>\n",
       "      <td>95740.0</td>\n",
       "    </tr>\n",
       "    <tr>\n",
       "      <th>2</th>\n",
       "      <td>2000-03-01</td>\n",
       "      <td>104390.0</td>\n",
       "    </tr>\n",
       "    <tr>\n",
       "      <th>3</th>\n",
       "      <td>2000-04-01</td>\n",
       "      <td>103720.0</td>\n",
       "    </tr>\n",
       "    <tr>\n",
       "      <th>4</th>\n",
       "      <td>2000-05-01</td>\n",
       "      <td>109780.0</td>\n",
       "    </tr>\n",
       "    <tr>\n",
       "      <th>5</th>\n",
       "      <td>2000-06-01</td>\n",
       "      <td>109810.0</td>\n",
       "    </tr>\n",
       "    <tr>\n",
       "      <th>6</th>\n",
       "      <td>2000-07-01</td>\n",
       "      <td>119370.0</td>\n",
       "    </tr>\n",
       "    <tr>\n",
       "      <th>7</th>\n",
       "      <td>2000-08-01</td>\n",
       "      <td>117410.0</td>\n",
       "    </tr>\n",
       "    <tr>\n",
       "      <th>8</th>\n",
       "      <td>2000-09-01</td>\n",
       "      <td>107900.0</td>\n",
       "    </tr>\n",
       "    <tr>\n",
       "      <th>9</th>\n",
       "      <td>2000-10-01</td>\n",
       "      <td>108970.0</td>\n",
       "    </tr>\n",
       "  </tbody>\n",
       "</table>\n",
       "</div>"
      ],
      "text/plain": [
       "         DATE  Electricity\n",
       "0  2000-01-01     105230.0\n",
       "1  2000-02-01      95740.0\n",
       "2  2000-03-01     104390.0\n",
       "3  2000-04-01     103720.0\n",
       "4  2000-05-01     109780.0\n",
       "5  2000-06-01     109810.0\n",
       "6  2000-07-01     119370.0\n",
       "7  2000-08-01     117410.0\n",
       "8  2000-09-01     107900.0\n",
       "9  2000-10-01     108970.0"
      ]
     },
     "execution_count": 22,
     "metadata": {},
     "output_type": "execute_result"
    }
   ],
   "source": [
    "#Read the dataset and print the first 10 elements of the dataset\n",
    "data = pd.read_csv('CHNPRENEL01MLM.csv')\n",
    "data.head()\n",
    "data.head(10)"
   ]
  },
  {
   "cell_type": "markdown",
   "metadata": {},
   "source": [
    "As you can see this dataset contain electricity production from China. These numbers are in Gigawatt hours and are not adjusted for seasonal variation. Now, let us check the data types of our columns present in the Pandas DataFrame 'data' using built-in property 'dtypes'. "
   ]
  },
  {
   "cell_type": "code",
   "execution_count": 23,
   "metadata": {},
   "outputs": [
    {
     "data": {
      "text/plain": [
       "DATE            object\n",
       "Electricity    float64\n",
       "dtype: object"
      ]
     },
     "execution_count": 23,
     "metadata": {},
     "output_type": "execute_result"
    }
   ],
   "source": [
    "data.dtypes"
   ]
  },
  {
   "cell_type": "markdown",
   "metadata": {},
   "source": [
    "We can clearly see that this dataframe contains a column 'Date' that needs to be changed into Pandas 'datetime' format. "
   ]
  },
  {
   "cell_type": "code",
   "execution_count": 24,
   "metadata": {},
   "outputs": [],
   "source": [
    "data['DATE'] = pd.to_datetime(data.DATE)"
   ]
  },
  {
   "cell_type": "markdown",
   "metadata": {},
   "source": [
    "In this step, we will extract the \"Year\" and \"Month\" column from the \"Date\" column using the built-in property \"DatetimeIndex\". We have to complete this step to make the DataFrame readable for \"DMatrix\" data structure that XGBoost requires for functioning properly in Python. "
   ]
  },
  {
   "cell_type": "code",
   "execution_count": 25,
   "metadata": {},
   "outputs": [],
   "source": [
    "data['Year'] = pd.DatetimeIndex(data['DATE']).year\n",
    "data['Month'] = pd.DatetimeIndex(data['DATE']).month"
   ]
  },
  {
   "cell_type": "markdown",
   "metadata": {},
   "source": [
    "In this step, we will quickly check to see the shape of our DataFrame. We currently have 5 columns and 3,265 rows of data."
   ]
  },
  {
   "cell_type": "code",
   "execution_count": 26,
   "metadata": {},
   "outputs": [
    {
     "name": "stdout",
     "output_type": "stream",
     "text": [
      "(256, 4)\n"
     ]
    }
   ],
   "source": [
    "# check the number of rows and columns in DataFrame\n",
    "print(data.shape)"
   ]
  },
  {
   "cell_type": "markdown",
   "metadata": {},
   "source": [
    "DMatrix Data Structure"
   ]
  },
  {
   "cell_type": "markdown",
   "metadata": {},
   "source": [
    "In order to run the dataset with XGBoost, it requires that the data be fed into DMatrix data structure. It optimizes both memory efficiency and training speed of the XGBoost model.\n",
    "\n",
    "We will now separate the target variable - 'Electricity' and rest of the variables using .iloc to subset the data . This needs to be done to make our data compatible for DMatrix's structure. "
   ]
  },
  {
   "cell_type": "code",
   "execution_count": 27,
   "metadata": {},
   "outputs": [],
   "source": [
    "X, y =  data.loc[:,['Month', 'Year']].values, data.loc[:,'Electricity'].values\n",
    "data_dmatrix = xgb.DMatrix(X,label=y)"
   ]
  },
  {
   "cell_type": "markdown",
   "metadata": {},
   "source": [
    "Train-Test Split\n",
    "\n",
    "Next, we will create a training and testing dataset using the train_test_split function from sklearn's model_selection module. The training set will contain a known output and the model will learn on this data while the testing set will be used to test our model's prediction.\n",
    "\n",
    "The training data will account for 80% oF electricity data while the testing data will account for the rest. We will use \"random_state\" property to make sure that our splitted datasets do not change every time we run the function. "
   ]
  },
  {
   "cell_type": "code",
   "execution_count": 28,
   "metadata": {},
   "outputs": [],
   "source": [
    "from sklearn.model_selection import train_test_split\n",
    "\n",
    "X_train, X_test, y_train, y_test = train_test_split(X, y, test_size=0.2, random_state=123)"
   ]
  },
  {
   "cell_type": "markdown",
   "metadata": {},
   "source": [
    "XGBRegressor\n",
    "\n",
    "For this particular example, we'll use the XGBRegressor class with hyperparameters passed as arguments to optimize our model. We will be choosing the 'reg:squarederror' objective loss function for predicting electricity values. Other loss functions included in the package for solving regression problems are 'reg:squaredlogerror', 'reg:logistic', 'reg:pseudohubererror', 'reg:gamma', and 'reg:tweedie'. However, none of these functions gave me results that were as good as the results I got by using 'reg:squarederror'. Other hyperparameters used here are: \n",
    "\n",
    "n_estimators – This parameter defines the number of boosting rounds.\n",
    "max_depth - This parameter identifies the maximum tree depth for base learners.\n",
    "learning_rate - This parameter indicates the boosting learning rate (xgb’s “eta”)\n",
    "subsample - This parameter defines the subsample ratio of the training dataset.\n",
    "colsample_bytree - This parameter provides the subsample ratio of columns when constructing each tree.\n"
   ]
  },
  {
   "cell_type": "code",
   "execution_count": 29,
   "metadata": {},
   "outputs": [
    {
     "data": {
      "text/plain": [
       "XGBRegressor(base_score=0.5, booster='gbtree', colsample_bylevel=1,\n",
       "             colsample_bynode=1, colsample_bytree=1, gamma=0, gpu_id=-1,\n",
       "             importance_type='gain', interaction_constraints='',\n",
       "             learning_rate=0.1, max_delta_step=0, max_depth=5,\n",
       "             min_child_weight=1, missing=nan, monotone_constraints='()',\n",
       "             n_estimators=1000, n_jobs=8, num_parallel_tree=1, random_state=0,\n",
       "             reg_alpha=0, reg_lambda=1, scale_pos_weight=1, subsample=0.5,\n",
       "             tree_method='exact', validate_parameters=1, verbosity=None)"
      ]
     },
     "execution_count": 29,
     "metadata": {},
     "output_type": "execute_result"
    }
   ],
   "source": [
    "reg_mod = xgb.XGBRegressor(objective='reg:squarederror',\n",
    "    n_estimators=1000,\n",
    "    learning_rate=0.10,\n",
    "    subsample=0.5,\n",
    "    colsample_bytree=1, \n",
    "    max_depth=5,\n",
    ")\n",
    "reg_mod.fit(X_train, y_train)"
   ]
  },
  {
   "cell_type": "markdown",
   "metadata": {},
   "source": [
    "Make Predictions"
   ]
  },
  {
   "cell_type": "code",
   "execution_count": null,
   "metadata": {},
   "outputs": [],
   "source": []
  },
  {
   "cell_type": "markdown",
   "metadata": {},
   "source": [
    "Next, we will use the XGBRegressor to fit the training data & make prediction on the testing data. "
   ]
  },
  {
   "cell_type": "code",
   "execution_count": 30,
   "metadata": {},
   "outputs": [],
   "source": [
    "reg_mod.fit(X_train,y_train)\n",
    "\n",
    "predictions = reg_mod.predict(X_test)"
   ]
  },
  {
   "cell_type": "markdown",
   "metadata": {},
   "source": [
    "Accuracy Metrics\n",
    "\n",
    "After we have built a model, we can check its accuracy by calculating the RMSE score and the R-squared score.\n",
    "RMSE (Root Mean Squared Error) of an estimator of a population parameter is the square root of the mean square error (MSE). The mean square error is defined as the expected value of the square of the difference between the estimator and the parameter. It is the sum of variance and squared Bias.\n",
    "R-squared value, denoted by R2 is a statistical measure that calculates the proportion of variation in the dependent variable that can be attributed to the independent variable."
   ]
  },
  {
   "cell_type": "code",
   "execution_count": 31,
   "metadata": {},
   "outputs": [
    {
     "name": "stdout",
     "output_type": "stream",
     "text": [
      "RMSE: 13379.472413\n"
     ]
    }
   ],
   "source": [
    "rmse = np.sqrt(mean_squared_error(y_test, predictions))\n",
    "print(\"RMSE: %f\" % (rmse))"
   ]
  },
  {
   "cell_type": "code",
   "execution_count": 32,
   "metadata": {},
   "outputs": [
    {
     "name": "stdout",
     "output_type": "stream",
     "text": [
      "R_Squared Score : 0.997134\n"
     ]
    }
   ],
   "source": [
    "from sklearn.metrics import r2_score\n",
    "r2 = np.sqrt(r2_score(y_test, predictions))\n",
    "print(\"R_Squared Score : %f\" % (r2))"
   ]
  },
  {
   "cell_type": "markdown",
   "metadata": {},
   "source": [
    "The R-squared score of 99.7% and RMSE of 13,379 indicates that we have a decent model that can be used to predict values into the future. "
   ]
  },
  {
   "cell_type": "markdown",
   "metadata": {},
   "source": [
    "Test vs Predicted Values"
   ]
  },
  {
   "cell_type": "markdown",
   "metadata": {},
   "source": [
    "Finally, we'll visualize the original and predicted test data in a plot using the Plotly library. To accomplish this, I will create an empty dataframe and assign the tested and predicted values into \"result\" dataframe. "
   ]
  },
  {
   "cell_type": "code",
   "execution_count": 33,
   "metadata": {},
   "outputs": [
    {
     "data": {
      "application/vnd.plotly.v1+json": {
       "config": {
        "plotlyServerURL": "https://plotly.com"
       },
       "data": [
        {
         "mode": "lines",
         "name": "Test",
         "type": "scatter",
         "x": [
          "2000-01-31T00:00:00",
          "2000-02-29T00:00:00",
          "2000-03-31T00:00:00",
          "2000-04-30T00:00:00",
          "2000-05-31T00:00:00",
          "2000-06-30T00:00:00",
          "2000-07-31T00:00:00",
          "2000-08-31T00:00:00",
          "2000-09-30T00:00:00",
          "2000-10-31T00:00:00",
          "2000-11-30T00:00:00",
          "2000-12-31T00:00:00",
          "2001-01-31T00:00:00",
          "2001-02-28T00:00:00",
          "2001-03-31T00:00:00",
          "2001-04-30T00:00:00",
          "2001-05-31T00:00:00",
          "2001-06-30T00:00:00",
          "2001-07-31T00:00:00",
          "2001-08-31T00:00:00",
          "2001-09-30T00:00:00",
          "2001-10-31T00:00:00",
          "2001-11-30T00:00:00",
          "2001-12-31T00:00:00",
          "2002-01-31T00:00:00",
          "2002-02-28T00:00:00",
          "2002-03-31T00:00:00",
          "2002-04-30T00:00:00",
          "2002-05-31T00:00:00",
          "2002-06-30T00:00:00",
          "2002-07-31T00:00:00",
          "2002-08-31T00:00:00",
          "2002-09-30T00:00:00",
          "2002-10-31T00:00:00",
          "2002-11-30T00:00:00",
          "2002-12-31T00:00:00",
          "2003-01-31T00:00:00",
          "2003-02-28T00:00:00",
          "2003-03-31T00:00:00",
          "2003-04-30T00:00:00",
          "2003-05-31T00:00:00",
          "2003-06-30T00:00:00",
          "2003-07-31T00:00:00",
          "2003-08-31T00:00:00",
          "2003-09-30T00:00:00",
          "2003-10-31T00:00:00",
          "2003-11-30T00:00:00",
          "2003-12-31T00:00:00",
          "2004-01-31T00:00:00",
          "2004-02-29T00:00:00",
          "2004-03-31T00:00:00",
          "2004-04-30T00:00:00"
         ],
         "y": [
          145804,
          236340,
          273960,
          476720,
          435100,
          458100,
          668200,
          657300,
          131673,
          169900,
          448721,
          364040,
          291570,
          135476,
          435100,
          118850,
          444641,
          604740,
          271560,
          126880,
          590800,
          396820,
          491280,
          145599,
          425261,
          640500,
          298980,
          727700,
          345340,
          544000,
          160110,
          206340,
          532890,
          654400,
          329500,
          293380,
          196730,
          232430,
          410410,
          490790,
          334498,
          554300,
          371330,
          174810,
          138519,
          117700,
          236480,
          522800,
          109810,
          109780,
          371820,
          169290
         ]
        },
        {
         "mode": "lines",
         "name": "Predicted",
         "type": "scatter",
         "x": [
          "2000-01-31T00:00:00",
          "2000-02-29T00:00:00",
          "2000-03-31T00:00:00",
          "2000-04-30T00:00:00",
          "2000-05-31T00:00:00",
          "2000-06-30T00:00:00",
          "2000-07-31T00:00:00",
          "2000-08-31T00:00:00",
          "2000-09-30T00:00:00",
          "2000-10-31T00:00:00",
          "2000-11-30T00:00:00",
          "2000-12-31T00:00:00",
          "2001-01-31T00:00:00",
          "2001-02-28T00:00:00",
          "2001-03-31T00:00:00",
          "2001-04-30T00:00:00",
          "2001-05-31T00:00:00",
          "2001-06-30T00:00:00",
          "2001-07-31T00:00:00",
          "2001-08-31T00:00:00",
          "2001-09-30T00:00:00",
          "2001-10-31T00:00:00",
          "2001-11-30T00:00:00",
          "2001-12-31T00:00:00",
          "2002-01-31T00:00:00",
          "2002-02-28T00:00:00",
          "2002-03-31T00:00:00",
          "2002-04-30T00:00:00",
          "2002-05-31T00:00:00",
          "2002-06-30T00:00:00",
          "2002-07-31T00:00:00",
          "2002-08-31T00:00:00",
          "2002-09-30T00:00:00",
          "2002-10-31T00:00:00",
          "2002-11-30T00:00:00",
          "2002-12-31T00:00:00",
          "2003-01-31T00:00:00",
          "2003-02-28T00:00:00",
          "2003-03-31T00:00:00",
          "2003-04-30T00:00:00",
          "2003-05-31T00:00:00",
          "2003-06-30T00:00:00",
          "2003-07-31T00:00:00",
          "2003-08-31T00:00:00",
          "2003-09-30T00:00:00",
          "2003-10-31T00:00:00",
          "2003-11-30T00:00:00",
          "2003-12-31T00:00:00",
          "2004-01-31T00:00:00",
          "2004-02-29T00:00:00",
          "2004-03-31T00:00:00",
          "2004-04-30T00:00:00"
         ],
         "y": [
          148689.078125,
          241928,
          289070,
          476756.21875,
          408107.3125,
          461525.28125,
          678377,
          649771.25,
          108434.53125,
          166775.90625,
          460577.4375,
          377420.125,
          294474.78125,
          133502,
          407098.6875,
          120300.234375,
          447304.59375,
          589779.625,
          266300.5625,
          131149.6875,
          585272.6875,
          388103.3125,
          500235.09375,
          151323.359375,
          433066.6875,
          639154.5625,
          293849.46875,
          670774.9375,
          340646.375,
          533247.75,
          178322.296875,
          221805.109375,
          542306.375,
          639115.125,
          315613.21875,
          283205.96875,
          214848.25,
          241317.953125,
          417343.5625,
          493186.4375,
          340573.90625,
          553713,
          384195.71875,
          175812.328125,
          139217.875,
          135763.953125,
          243954.390625,
          536669.875,
          107449.8515625,
          107107.34375,
          379975.0625,
          169582.953125
         ]
        }
       ],
       "layout": {
        "template": {
         "data": {
          "pie": [
           {
            "automargin": true,
            "type": "pie"
           }
          ]
         },
         "layout": {
          "xaxis": {
           "showgrid": true,
           "title": {
            "standoff": 15
           }
          },
          "yaxis": {
           "showgrid": true,
           "title": {
            "standoff": 15
           }
          }
         }
        },
        "title": {
         "text": "Test vs Predicted Values"
        },
        "xaxis": {
         "title": {
          "text": "Months"
         }
        },
        "yaxis": {
         "title": {
          "text": "Electricity (GWh)"
         }
        }
       }
      },
      "text/html": [
       "<div>                            <div id=\"aaff4a8c-5183-46ae-9c64-d32b23547f10\" class=\"plotly-graph-div\" style=\"height:525px; width:100%;\"></div>            <script type=\"text/javascript\">                require([\"plotly\"], function(Plotly) {                    window.PLOTLYENV=window.PLOTLYENV || {};                                    if (document.getElementById(\"aaff4a8c-5183-46ae-9c64-d32b23547f10\")) {                    Plotly.newPlot(                        \"aaff4a8c-5183-46ae-9c64-d32b23547f10\",                        [{\"mode\": \"lines\", \"name\": \"Test\", \"type\": \"scatter\", \"x\": [\"2000-01-31T00:00:00\", \"2000-02-29T00:00:00\", \"2000-03-31T00:00:00\", \"2000-04-30T00:00:00\", \"2000-05-31T00:00:00\", \"2000-06-30T00:00:00\", \"2000-07-31T00:00:00\", \"2000-08-31T00:00:00\", \"2000-09-30T00:00:00\", \"2000-10-31T00:00:00\", \"2000-11-30T00:00:00\", \"2000-12-31T00:00:00\", \"2001-01-31T00:00:00\", \"2001-02-28T00:00:00\", \"2001-03-31T00:00:00\", \"2001-04-30T00:00:00\", \"2001-05-31T00:00:00\", \"2001-06-30T00:00:00\", \"2001-07-31T00:00:00\", \"2001-08-31T00:00:00\", \"2001-09-30T00:00:00\", \"2001-10-31T00:00:00\", \"2001-11-30T00:00:00\", \"2001-12-31T00:00:00\", \"2002-01-31T00:00:00\", \"2002-02-28T00:00:00\", \"2002-03-31T00:00:00\", \"2002-04-30T00:00:00\", \"2002-05-31T00:00:00\", \"2002-06-30T00:00:00\", \"2002-07-31T00:00:00\", \"2002-08-31T00:00:00\", \"2002-09-30T00:00:00\", \"2002-10-31T00:00:00\", \"2002-11-30T00:00:00\", \"2002-12-31T00:00:00\", \"2003-01-31T00:00:00\", \"2003-02-28T00:00:00\", \"2003-03-31T00:00:00\", \"2003-04-30T00:00:00\", \"2003-05-31T00:00:00\", \"2003-06-30T00:00:00\", \"2003-07-31T00:00:00\", \"2003-08-31T00:00:00\", \"2003-09-30T00:00:00\", \"2003-10-31T00:00:00\", \"2003-11-30T00:00:00\", \"2003-12-31T00:00:00\", \"2004-01-31T00:00:00\", \"2004-02-29T00:00:00\", \"2004-03-31T00:00:00\", \"2004-04-30T00:00:00\"], \"y\": [145804.0, 236340.0, 273960.0, 476720.0, 435100.0, 458100.0, 668200.0, 657300.0, 131673.0, 169900.0, 448721.0, 364040.0, 291570.0, 135476.0, 435100.0, 118850.0, 444641.0, 604740.0, 271560.0, 126880.0, 590800.0, 396820.0, 491280.0, 145599.0, 425261.0, 640500.0, 298980.0, 727700.0, 345340.0, 544000.0, 160110.0, 206340.0, 532890.0, 654400.0, 329500.0, 293380.0, 196730.0, 232430.0, 410410.0, 490790.0, 334498.0, 554300.0, 371330.0, 174810.0, 138519.0, 117700.0, 236480.0, 522800.0, 109810.0, 109780.0, 371820.0, 169290.0]}, {\"mode\": \"lines\", \"name\": \"Predicted\", \"type\": \"scatter\", \"x\": [\"2000-01-31T00:00:00\", \"2000-02-29T00:00:00\", \"2000-03-31T00:00:00\", \"2000-04-30T00:00:00\", \"2000-05-31T00:00:00\", \"2000-06-30T00:00:00\", \"2000-07-31T00:00:00\", \"2000-08-31T00:00:00\", \"2000-09-30T00:00:00\", \"2000-10-31T00:00:00\", \"2000-11-30T00:00:00\", \"2000-12-31T00:00:00\", \"2001-01-31T00:00:00\", \"2001-02-28T00:00:00\", \"2001-03-31T00:00:00\", \"2001-04-30T00:00:00\", \"2001-05-31T00:00:00\", \"2001-06-30T00:00:00\", \"2001-07-31T00:00:00\", \"2001-08-31T00:00:00\", \"2001-09-30T00:00:00\", \"2001-10-31T00:00:00\", \"2001-11-30T00:00:00\", \"2001-12-31T00:00:00\", \"2002-01-31T00:00:00\", \"2002-02-28T00:00:00\", \"2002-03-31T00:00:00\", \"2002-04-30T00:00:00\", \"2002-05-31T00:00:00\", \"2002-06-30T00:00:00\", \"2002-07-31T00:00:00\", \"2002-08-31T00:00:00\", \"2002-09-30T00:00:00\", \"2002-10-31T00:00:00\", \"2002-11-30T00:00:00\", \"2002-12-31T00:00:00\", \"2003-01-31T00:00:00\", \"2003-02-28T00:00:00\", \"2003-03-31T00:00:00\", \"2003-04-30T00:00:00\", \"2003-05-31T00:00:00\", \"2003-06-30T00:00:00\", \"2003-07-31T00:00:00\", \"2003-08-31T00:00:00\", \"2003-09-30T00:00:00\", \"2003-10-31T00:00:00\", \"2003-11-30T00:00:00\", \"2003-12-31T00:00:00\", \"2004-01-31T00:00:00\", \"2004-02-29T00:00:00\", \"2004-03-31T00:00:00\", \"2004-04-30T00:00:00\"], \"y\": [148689.078125, 241928.0, 289070.0, 476756.21875, 408107.3125, 461525.28125, 678377.0, 649771.25, 108434.53125, 166775.90625, 460577.4375, 377420.125, 294474.78125, 133502.0, 407098.6875, 120300.234375, 447304.59375, 589779.625, 266300.5625, 131149.6875, 585272.6875, 388103.3125, 500235.09375, 151323.359375, 433066.6875, 639154.5625, 293849.46875, 670774.9375, 340646.375, 533247.75, 178322.296875, 221805.109375, 542306.375, 639115.125, 315613.21875, 283205.96875, 214848.25, 241317.953125, 417343.5625, 493186.4375, 340573.90625, 553713.0, 384195.71875, 175812.328125, 139217.875, 135763.953125, 243954.390625, 536669.875, 107449.8515625, 107107.34375, 379975.0625, 169582.953125]}],                        {\"template\": {\"data\": {\"pie\": [{\"automargin\": true, \"type\": \"pie\"}]}, \"layout\": {\"xaxis\": {\"showgrid\": true, \"title\": {\"standoff\": 15}}, \"yaxis\": {\"showgrid\": true, \"title\": {\"standoff\": 15}}}}, \"title\": {\"text\": \"Test vs Predicted Values\"}, \"xaxis\": {\"title\": {\"text\": \"Months\"}}, \"yaxis\": {\"title\": {\"text\": \"Electricity (GWh)\"}}},                        {\"responsive\": true}                    ).then(function(){\n",
       "                            \n",
       "var gd = document.getElementById('aaff4a8c-5183-46ae-9c64-d32b23547f10');\n",
       "var x = new MutationObserver(function (mutations, observer) {{\n",
       "        var display = window.getComputedStyle(gd).display;\n",
       "        if (!display || display === 'none') {{\n",
       "            console.log([gd, 'removed!']);\n",
       "            Plotly.purge(gd);\n",
       "            observer.disconnect();\n",
       "        }}\n",
       "}});\n",
       "\n",
       "// Listen for the removal of the full notebook cells\n",
       "var notebookContainer = gd.closest('#notebook-container');\n",
       "if (notebookContainer) {{\n",
       "    x.observe(notebookContainer, {childList: true});\n",
       "}}\n",
       "\n",
       "// Listen for the clearing of the current output cell\n",
       "var outputEl = gd.closest('.output');\n",
       "if (outputEl) {{\n",
       "    x.observe(outputEl, {childList: true});\n",
       "}}\n",
       "\n",
       "                        })                };                });            </script>        </div>"
      ]
     },
     "metadata": {},
     "output_type": "display_data"
    }
   ],
   "source": [
    "# Creating an empty Dataframe with column names only\n",
    "result = pd.DataFrame(columns=['Time', 'Test', 'Predicted'])\n",
    "result['Time'] = pd.date_range(start='1/1/2000', periods=52, freq='M')\n",
    "result['Test'] = y_test\n",
    "result['Predicted'] = predictions\n",
    "#Using Plotly to build the graph\n",
    "fig = go.Figure()\n",
    "fig.add_trace(go.Scatter(x=result['Time'], y=result['Test'],\n",
    "                    mode='lines',\n",
    "                    name='Test'))\n",
    "fig.add_trace(go.Scatter(x=result['Time'], y=result['Predicted'],\n",
    "                    mode='lines',\n",
    "                    name='Predicted'))\n",
    "\n",
    "# Edit the layout\n",
    "fig.update_layout(title='Test vs Predicted Values',\n",
    "                   xaxis_title='Months',\n",
    "                   yaxis_title='Electricity (GWh)',\n",
    "                   template='gridon')\n",
    "\n",
    "fig.show()"
   ]
  },
  {
   "cell_type": "markdown",
   "metadata": {},
   "source": [
    "Visualize Forecasted Values\n",
    "Finally, the last piece of code will print the electricity consumption values until 2026."
   ]
  },
  {
   "cell_type": "code",
   "execution_count": 34,
   "metadata": {},
   "outputs": [
    {
     "data": {
      "application/vnd.plotly.v1+json": {
       "config": {
        "plotlyServerURL": "https://plotly.com"
       },
       "data": [
        {
         "hovertemplate": "date=%{x}<br>pred=%{y}<extra></extra>",
         "legendgroup": "",
         "line": {
          "color": "#636efa",
          "dash": "solid"
         },
         "mode": "lines",
         "name": "",
         "orientation": "v",
         "showlegend": false,
         "type": "scatter",
         "x": [
          "2021-02-28T00:00:00",
          "2021-03-31T00:00:00",
          "2021-04-30T00:00:00",
          "2021-05-31T00:00:00",
          "2021-06-30T00:00:00",
          "2021-07-31T00:00:00",
          "2021-08-31T00:00:00",
          "2021-09-30T00:00:00",
          "2021-10-31T00:00:00",
          "2021-11-30T00:00:00",
          "2021-12-31T00:00:00",
          "2022-01-31T00:00:00",
          "2022-02-28T00:00:00",
          "2022-03-31T00:00:00",
          "2022-04-30T00:00:00",
          "2022-05-31T00:00:00",
          "2022-06-30T00:00:00",
          "2022-07-31T00:00:00",
          "2022-08-31T00:00:00",
          "2022-09-30T00:00:00",
          "2022-10-31T00:00:00",
          "2022-11-30T00:00:00",
          "2022-12-31T00:00:00",
          "2023-01-31T00:00:00",
          "2023-02-28T00:00:00",
          "2023-03-31T00:00:00",
          "2023-04-30T00:00:00",
          "2023-05-31T00:00:00",
          "2023-06-30T00:00:00",
          "2023-07-31T00:00:00",
          "2023-08-31T00:00:00",
          "2023-09-30T00:00:00",
          "2023-10-31T00:00:00",
          "2023-11-30T00:00:00",
          "2023-12-31T00:00:00",
          "2024-01-31T00:00:00",
          "2024-02-29T00:00:00",
          "2024-03-31T00:00:00",
          "2024-04-30T00:00:00",
          "2024-05-31T00:00:00",
          "2024-06-30T00:00:00",
          "2024-07-31T00:00:00",
          "2024-08-31T00:00:00",
          "2024-09-30T00:00:00",
          "2024-10-31T00:00:00",
          "2024-11-30T00:00:00",
          "2024-12-31T00:00:00",
          "2025-01-31T00:00:00",
          "2025-02-28T00:00:00",
          "2025-03-31T00:00:00",
          "2025-04-30T00:00:00",
          "2025-05-31T00:00:00"
         ],
         "xaxis": "x",
         "y": [
          148689.078125,
          241928,
          289070,
          476756.21875,
          408107.3125,
          461525.28125,
          678377,
          649771.25,
          108434.53125,
          166775.90625,
          460577.4375,
          377420.125,
          294474.78125,
          133502,
          407098.6875,
          120300.234375,
          447304.59375,
          589779.625,
          266300.5625,
          131149.6875,
          585272.6875,
          388103.3125,
          500235.09375,
          151323.359375,
          433066.6875,
          639154.5625,
          293849.46875,
          670774.9375,
          340646.375,
          533247.75,
          178322.296875,
          221805.109375,
          542306.375,
          639115.125,
          315613.21875,
          283205.96875,
          214848.25,
          241317.953125,
          417343.5625,
          493186.4375,
          340573.90625,
          553713,
          384195.71875,
          175812.328125,
          139217.875,
          135763.953125,
          243954.390625,
          536669.875,
          107449.8515625,
          107107.34375,
          379975.0625,
          169582.953125
         ],
         "yaxis": "y"
        }
       ],
       "layout": {
        "legend": {
         "tracegroupgap": 0
        },
        "margin": {
         "t": 60
        },
        "template": {
         "data": {
          "pie": [
           {
            "automargin": true,
            "type": "pie"
           }
          ]
         },
         "layout": {
          "xaxis": {
           "showgrid": true,
           "title": {
            "standoff": 15
           }
          },
          "yaxis": {
           "showgrid": true,
           "title": {
            "standoff": 15
           }
          }
         }
        },
        "title": {
         "text": "China Electricity Consumption Forecast"
        },
        "xaxis": {
         "anchor": "y",
         "domain": [
          0,
          1
         ],
         "title": {
          "text": "Date"
         }
        },
        "yaxis": {
         "anchor": "x",
         "domain": [
          0,
          1
         ],
         "title": {
          "text": "Electricity - GWh"
         }
        }
       }
      },
      "text/html": [
       "<div>                            <div id=\"ea8af544-fd96-45d1-b99b-097a6ca6101a\" class=\"plotly-graph-div\" style=\"height:525px; width:100%;\"></div>            <script type=\"text/javascript\">                require([\"plotly\"], function(Plotly) {                    window.PLOTLYENV=window.PLOTLYENV || {};                                    if (document.getElementById(\"ea8af544-fd96-45d1-b99b-097a6ca6101a\")) {                    Plotly.newPlot(                        \"ea8af544-fd96-45d1-b99b-097a6ca6101a\",                        [{\"hovertemplate\": \"date=%{x}<br>pred=%{y}<extra></extra>\", \"legendgroup\": \"\", \"line\": {\"color\": \"#636efa\", \"dash\": \"solid\"}, \"mode\": \"lines\", \"name\": \"\", \"orientation\": \"v\", \"showlegend\": false, \"type\": \"scatter\", \"x\": [\"2021-02-28T00:00:00\", \"2021-03-31T00:00:00\", \"2021-04-30T00:00:00\", \"2021-05-31T00:00:00\", \"2021-06-30T00:00:00\", \"2021-07-31T00:00:00\", \"2021-08-31T00:00:00\", \"2021-09-30T00:00:00\", \"2021-10-31T00:00:00\", \"2021-11-30T00:00:00\", \"2021-12-31T00:00:00\", \"2022-01-31T00:00:00\", \"2022-02-28T00:00:00\", \"2022-03-31T00:00:00\", \"2022-04-30T00:00:00\", \"2022-05-31T00:00:00\", \"2022-06-30T00:00:00\", \"2022-07-31T00:00:00\", \"2022-08-31T00:00:00\", \"2022-09-30T00:00:00\", \"2022-10-31T00:00:00\", \"2022-11-30T00:00:00\", \"2022-12-31T00:00:00\", \"2023-01-31T00:00:00\", \"2023-02-28T00:00:00\", \"2023-03-31T00:00:00\", \"2023-04-30T00:00:00\", \"2023-05-31T00:00:00\", \"2023-06-30T00:00:00\", \"2023-07-31T00:00:00\", \"2023-08-31T00:00:00\", \"2023-09-30T00:00:00\", \"2023-10-31T00:00:00\", \"2023-11-30T00:00:00\", \"2023-12-31T00:00:00\", \"2024-01-31T00:00:00\", \"2024-02-29T00:00:00\", \"2024-03-31T00:00:00\", \"2024-04-30T00:00:00\", \"2024-05-31T00:00:00\", \"2024-06-30T00:00:00\", \"2024-07-31T00:00:00\", \"2024-08-31T00:00:00\", \"2024-09-30T00:00:00\", \"2024-10-31T00:00:00\", \"2024-11-30T00:00:00\", \"2024-12-31T00:00:00\", \"2025-01-31T00:00:00\", \"2025-02-28T00:00:00\", \"2025-03-31T00:00:00\", \"2025-04-30T00:00:00\", \"2025-05-31T00:00:00\"], \"xaxis\": \"x\", \"y\": [148689.078125, 241928.0, 289070.0, 476756.21875, 408107.3125, 461525.28125, 678377.0, 649771.25, 108434.53125, 166775.90625, 460577.4375, 377420.125, 294474.78125, 133502.0, 407098.6875, 120300.234375, 447304.59375, 589779.625, 266300.5625, 131149.6875, 585272.6875, 388103.3125, 500235.09375, 151323.359375, 433066.6875, 639154.5625, 293849.46875, 670774.9375, 340646.375, 533247.75, 178322.296875, 221805.109375, 542306.375, 639115.125, 315613.21875, 283205.96875, 214848.25, 241317.953125, 417343.5625, 493186.4375, 340573.90625, 553713.0, 384195.71875, 175812.328125, 139217.875, 135763.953125, 243954.390625, 536669.875, 107449.8515625, 107107.34375, 379975.0625, 169582.953125], \"yaxis\": \"y\"}],                        {\"legend\": {\"tracegroupgap\": 0}, \"margin\": {\"t\": 60}, \"template\": {\"data\": {\"pie\": [{\"automargin\": true, \"type\": \"pie\"}]}, \"layout\": {\"xaxis\": {\"showgrid\": true, \"title\": {\"standoff\": 15}}, \"yaxis\": {\"showgrid\": true, \"title\": {\"standoff\": 15}}}}, \"title\": {\"text\": \"China Electricity Consumption Forecast\"}, \"xaxis\": {\"anchor\": \"y\", \"domain\": [0.0, 1.0], \"title\": {\"text\": \"Date\"}}, \"yaxis\": {\"anchor\": \"x\", \"domain\": [0.0, 1.0], \"title\": {\"text\": \"Electricity - GWh\"}}},                        {\"responsive\": true}                    ).then(function(){\n",
       "                            \n",
       "var gd = document.getElementById('ea8af544-fd96-45d1-b99b-097a6ca6101a');\n",
       "var x = new MutationObserver(function (mutations, observer) {{\n",
       "        var display = window.getComputedStyle(gd).display;\n",
       "        if (!display || display === 'none') {{\n",
       "            console.log([gd, 'removed!']);\n",
       "            Plotly.purge(gd);\n",
       "            observer.disconnect();\n",
       "        }}\n",
       "}});\n",
       "\n",
       "// Listen for the removal of the full notebook cells\n",
       "var notebookContainer = gd.closest('#notebook-container');\n",
       "if (notebookContainer) {{\n",
       "    x.observe(notebookContainer, {childList: true});\n",
       "}}\n",
       "\n",
       "// Listen for the clearing of the current output cell\n",
       "var outputEl = gd.closest('.output');\n",
       "if (outputEl) {{\n",
       "    x.observe(outputEl, {childList: true});\n",
       "}}\n",
       "\n",
       "                        })                };                });            </script>        </div>"
      ]
     },
     "metadata": {},
     "output_type": "display_data"
    }
   ],
   "source": [
    "df=pd.DataFrame(predictions, columns=['pred']) \n",
    "df['date'] = pd.date_range(start='2/28/2021', periods=len(df), freq='M')\n",
    "fig = px.line(df, x=\"date\", y=\"pred\")\n",
    "# Edit the layout\n",
    "fig.update_layout(title='China Electricity Consumption Forecast',\n",
    "                   xaxis_title='Date',\n",
    "                   yaxis_title='Electricity - GWh',\n",
    "                   template='gridon')\n",
    "fig.show()"
   ]
  },
  {
   "cell_type": "markdown",
   "metadata": {},
   "source": [
    "Conclusion\n",
    "This was a step-by-step tutorial for anybody who is starting with XGBoost and requires to use this supervised machine learning approach to solve regression problems. We covered how to mould your dataset to fit the DMatrix data structure inherent to the XGBoost model. Moreover, you applied the various parameters used to optimize your model using XGBRegressor class. \n",
    "Finally, we visualized the test, predicted and forecasted electricity values obtained from the trained XGBoost model."
   ]
  },
  {
   "cell_type": "code",
   "execution_count": null,
   "metadata": {},
   "outputs": [],
   "source": []
  }
 ],
 "metadata": {
  "kernelspec": {
   "display_name": "Python 3",
   "language": "python",
   "name": "python3"
  },
  "language_info": {
   "codemirror_mode": {
    "name": "ipython",
    "version": 3
   },
   "file_extension": ".py",
   "mimetype": "text/x-python",
   "name": "python",
   "nbconvert_exporter": "python",
   "pygments_lexer": "ipython3",
   "version": "3.9.2"
  }
 },
 "nbformat": 4,
 "nbformat_minor": 4
}
